{
 "cells": [
  {
   "cell_type": "code",
   "execution_count": 2,
   "id": "358c7eee",
   "metadata": {},
   "outputs": [],
   "source": [
    "import os\n",
    "import numpy as np\n",
    "from scipy.io import loadmat\n",
    "import cv2"
   ]
  },
  {
   "cell_type": "code",
   "execution_count": 21,
   "id": "46dcd00a",
   "metadata": {},
   "outputs": [],
   "source": [
    "fIn = 'data/pixelMap.mat'\n",
    "data = loadmat(fIn)\n",
    "inds1 = data['inds1'].flatten()\n",
    "inds2 = data['inds2']\n",
    "ws = data['ws']"
   ]
  },
  {
   "cell_type": "code",
   "execution_count": 22,
   "id": "5defd236",
   "metadata": {},
   "outputs": [
    {
     "data": {
      "text/plain": [
       "{'__header__': b'MATLAB 5.0 MAT-file, Platform: PCWIN64, Created on: Fri Nov 17 09:23:00 2023',\n",
       " '__version__': '1.0',\n",
       " '__globals__': [],\n",
       " 'inds1': array([[  66274],\n",
       "        [  68158],\n",
       "        [  68159],\n",
       "        ...,\n",
       "        [2664069],\n",
       "        [2664070],\n",
       "        [2665954]]),\n",
       " 'inds2': array([[      1,      38,      37,      39],\n",
       "        [      2,       3,      91,      90],\n",
       "        [      3,       2,       4,      92],\n",
       "        ...,\n",
       "        [1439787, 1439698, 1439786, 1439788],\n",
       "        [1439788, 1439699, 1439787, 1439698],\n",
       "        [1439789, 1439752, 1439751, 1439753]]),\n",
       " 'ws': array([[0.25078547, 0.25015772, 0.2495284 , 0.2495284 ],\n",
       "        [0.25062775, 0.25000039, 0.25000039, 0.24937147],\n",
       "        [0.25047022, 0.24984326, 0.24984326, 0.24984326],\n",
       "        ...,\n",
       "        [0.25047022, 0.24984326, 0.24984326, 0.24984326],\n",
       "        [0.25062775, 0.25000039, 0.25000039, 0.24937147],\n",
       "        [0.25078547, 0.25015772, 0.2495284 , 0.2495284 ]])}"
      ]
     },
     "execution_count": 22,
     "metadata": {},
     "output_type": "execute_result"
    }
   ],
   "source": [
    "data"
   ]
  },
  {
   "cell_type": "code",
   "execution_count": 23,
   "id": "51a34aed",
   "metadata": {
    "scrolled": true
   },
   "outputs": [
    {
     "data": {
      "text/plain": [
       "array([  66274,   68158,   68159, ..., 2664069, 2664070, 2665954])"
      ]
     },
     "execution_count": 23,
     "metadata": {},
     "output_type": "execute_result"
    }
   ],
   "source": [
    "inds1"
   ]
  },
  {
   "cell_type": "code",
   "execution_count": 24,
   "id": "8a423f7b",
   "metadata": {},
   "outputs": [
    {
     "data": {
      "text/plain": [
       "array([[      1,      38,      37,      39],\n",
       "       [      2,       3,      91,      90],\n",
       "       [      3,       2,       4,      92],\n",
       "       ...,\n",
       "       [1439787, 1439698, 1439786, 1439788],\n",
       "       [1439788, 1439699, 1439787, 1439698],\n",
       "       [1439789, 1439752, 1439751, 1439753]])"
      ]
     },
     "execution_count": 24,
     "metadata": {},
     "output_type": "execute_result"
    }
   ],
   "source": [
    "inds2"
   ]
  },
  {
   "cell_type": "code",
   "execution_count": 10,
   "id": "508e3edf",
   "metadata": {},
   "outputs": [
    {
     "data": {
      "text/plain": [
       "array([[0.3341705 , 0.33333403, 0.33249547],\n",
       "       [0.33389051, 0.33305474, 0.33305474],\n",
       "       [0.33389051, 0.33305474, 0.33305474],\n",
       "       ...,\n",
       "       [0.33389051, 0.33305474, 0.33305474],\n",
       "       [0.33389051, 0.33305474, 0.33305474],\n",
       "       [0.3341705 , 0.33333403, 0.33249547]])"
      ]
     },
     "execution_count": 10,
     "metadata": {},
     "output_type": "execute_result"
    }
   ],
   "source": [
    "ws"
   ]
  },
  {
   "cell_type": "code",
   "execution_count": 25,
   "id": "8d251816",
   "metadata": {},
   "outputs": [],
   "source": [
    "# k value and weight normalization\n",
    "# Number of reference pixels (k)\n",
    "k = 3 \n",
    "# Normalize ws if k is 2 or 3\n",
    "if k in [2, 3]:\n",
    "    ws[:, :k] /= np.sum(ws[:, :k], axis=1, keepdims=True)"
   ]
  },
  {
   "cell_type": "code",
   "execution_count": 26,
   "id": "5732c347",
   "metadata": {},
   "outputs": [],
   "source": [
    "# Video inpu\n",
    "vIn = 'data/printteri.mov'\n",
    "v1 = cv2.VideoCapture(vIn)\n",
    "if not v1.isOpened():\n",
    "    print(\"Error opening video:\", vIn)\n",
    "    exit()"
   ]
  },
  {
   "cell_type": "code",
   "execution_count": 27,
   "id": "f8dacc37",
   "metadata": {},
   "outputs": [],
   "source": [
    "# Create output video writer\n",
    "v2_fourcc = cv2.VideoWriter_fourcc(*'XVID')\n",
    "v2_fps = v1.get(cv2.CAP_PROP_FPS)\n",
    "v2_frame_width = int(v1.get(cv2.CAP_PROP_FRAME_WIDTH))\n",
    "v2_frame_height = int(v1.get(cv2.CAP_PROP_FRAME_HEIGHT))\n",
    "v2 = cv2.VideoWriter('data/output1.avi', v2_fourcc, v2_fps, (v2_frame_width, v2_frame_height))"
   ]
  },
  {
   "cell_type": "code",
   "execution_count": 28,
   "id": "6ba296ec",
   "metadata": {},
   "outputs": [
    {
     "ename": "IndexError",
     "evalue": "index 1439789 is out of bounds for axis 0 with size 1439789",
     "output_type": "error",
     "traceback": [
      "\u001b[1;31m---------------------------------------------------------------------------\u001b[0m",
      "\u001b[1;31mIndexError\u001b[0m                                Traceback (most recent call last)",
      "\u001b[1;32m~\\AppData\\Local\\Temp\\ipykernel_3636\\952100557.py\u001b[0m in \u001b[0;36m<module>\u001b[1;34m\u001b[0m\n\u001b[0;32m     24\u001b[0m         \u001b[0mtemp\u001b[0m \u001b[1;33m=\u001b[0m \u001b[0mnp\u001b[0m\u001b[1;33m.\u001b[0m\u001b[0mzeros_like\u001b[0m\u001b[1;33m(\u001b[0m\u001b[0mimg2\u001b[0m\u001b[1;33m)\u001b[0m\u001b[1;33m\u001b[0m\u001b[1;33m\u001b[0m\u001b[0m\n\u001b[0;32m     25\u001b[0m         \u001b[1;32mfor\u001b[0m \u001b[0mi\u001b[0m \u001b[1;32min\u001b[0m \u001b[0mrange\u001b[0m\u001b[1;33m(\u001b[0m\u001b[0mk\u001b[0m\u001b[1;33m)\u001b[0m\u001b[1;33m:\u001b[0m\u001b[1;33m\u001b[0m\u001b[1;33m\u001b[0m\u001b[0m\n\u001b[1;32m---> 26\u001b[1;33m             \u001b[0mtemp\u001b[0m \u001b[1;33m+=\u001b[0m \u001b[0mws\u001b[0m\u001b[1;33m[\u001b[0m\u001b[1;33m:\u001b[0m\u001b[1;33m,\u001b[0m \u001b[0mi\u001b[0m\u001b[1;33m]\u001b[0m\u001b[1;33m.\u001b[0m\u001b[0mT\u001b[0m \u001b[1;33m*\u001b[0m \u001b[0mimg1\u001b[0m\u001b[1;33m[\u001b[0m\u001b[1;36m0\u001b[0m\u001b[1;33m,\u001b[0m \u001b[0minds1\u001b[0m\u001b[1;33m[\u001b[0m\u001b[0minds2\u001b[0m\u001b[1;33m[\u001b[0m\u001b[1;33m:\u001b[0m\u001b[1;33m,\u001b[0m \u001b[0mi\u001b[0m\u001b[1;33m]\u001b[0m\u001b[1;33m]\u001b[0m\u001b[1;33m]\u001b[0m\u001b[1;33m\u001b[0m\u001b[1;33m\u001b[0m\u001b[0m\n\u001b[0m\u001b[0;32m     27\u001b[0m         \u001b[0mimg2\u001b[0m\u001b[1;33m[\u001b[0m\u001b[1;36m0\u001b[0m\u001b[1;33m,\u001b[0m \u001b[0minds1\u001b[0m\u001b[1;33m]\u001b[0m \u001b[1;33m=\u001b[0m \u001b[0mtemp\u001b[0m\u001b[1;33m[\u001b[0m\u001b[1;36m0\u001b[0m\u001b[1;33m,\u001b[0m \u001b[1;33m:\u001b[0m\u001b[1;33m]\u001b[0m\u001b[1;33m\u001b[0m\u001b[1;33m\u001b[0m\u001b[0m\n\u001b[0;32m     28\u001b[0m \u001b[1;33m\u001b[0m\u001b[0m\n",
      "\u001b[1;31mIndexError\u001b[0m: index 1439789 is out of bounds for axis 0 with size 1439789"
     ]
    }
   ],
   "source": [
    "# Check for successful video writer creation\n",
    "if not v2.isOpened():\n",
    "    print(\"Error creating output video writer\")\n",
    "    exit()\n",
    "\n",
    "while True:\n",
    "    # Read a frame\n",
    "    ret, img1 = v1.read()\n",
    "    if not ret:\n",
    "        break\n",
    "\n",
    "    # Convert to grayscale and normalize (if needed)\n",
    "    img1 = cv2.cvtColor(img1, cv2.COLOR_BGR2GRAY).astype(np.float64) / 255.0\n",
    "\n",
    "    # Reshape for processing\n",
    "    ni, nj = img1.shape\n",
    "    img1 = img1.reshape(1, ni * nj)\n",
    "    img2 = img1.copy()\n",
    "\n",
    "    # Pixel mapping based on k (adjust indexing if needed)\n",
    "    if k == 1:\n",
    "        img2[0, inds1] = img1[0, inds1[inds2[:, 0]]]\n",
    "    else:\n",
    "        temp = np.zeros_like(img2)\n",
    "        for i in range(k):\n",
    "            temp += ws[:, i].T * img1[0, inds1[inds2[:, i]]]\n",
    "        img2[0, inds1] = temp[0, :]\n",
    "\n",
    "    # Reshape back and display\n",
    "    img2 = img2.reshape(nj, ni).T\n",
    "    cv2.imshow(\"Frame\", img2)\n",
    "\n",
    "    # Break if 'q' key is pressed\n",
    "    if cv2.waitKey(1) & 0xFF == ord('q'):\n",
    "        break\n",
    "\n",
    "    # Write to output video\n",
    "    temp = (img2 * 255).astype(np.uint8)\n",
    "    v2.write(temp)\n",
    "\n",
    "# Release resources\n",
    "v1.release()\n",
    "v2.release()\n",
    "cv2.destroyAllWindows()\n",
    "\n",
    "print(\"Pixel mapping complete!\")"
   ]
  },
  {
   "cell_type": "code",
   "execution_count": 34,
   "id": "4deb64f3",
   "metadata": {},
   "outputs": [],
   "source": [
    "import numpy as np\n",
    "import cv2\n",
    "from scipy.io import loadmat\n",
    "\n",
    "# Load the pixel map data\n",
    "fIn = 'data/pixelMap.mat'\n",
    "data = loadmat(fIn)\n",
    "inds1 = data['inds1'].flatten()  # Flatten to make it 1D\n",
    "inds2 = data['inds2']\n",
    "ws = data['ws']\n",
    "\n",
    "# Normalize weights for k = 2 or 3\n",
    "k = 3  # Choose k as in the MATLAB code\n",
    "nq = len(inds1)\n",
    "if k in [2, 3]:\n",
    "    for j in range(nq):\n",
    "        ws[j, :k] = ws[j, :k] / np.sum(ws[j, :k])\n",
    "\n",
    "# Video processing\n",
    "vIn = 'data/printteri.mov'\n",
    "vOut = 'data/output.avi'\n",
    "\n",
    "# Create a VideoCapture object to read the video\n",
    "cap = cv2.VideoCapture(vIn)\n",
    "\n",
    "# Get video frame dimensions\n",
    "frame_width = int(cap.get(3))\n",
    "frame_height = int(cap.get(4))\n",
    "\n",
    "# Define the codec and create a VideoWriter object to write the video\n",
    "out = cv2.VideoWriter(vOut, cv2.VideoWriter_fourcc('M','J','P','G'), 10, (frame_width, frame_height), False)\n",
    "\n",
    "while cap.isOpened():\n",
    "    ret, frame = cap.read()\n",
    "    if not ret:\n",
    "        break\n",
    "    \n",
    "    # Convert frame to grayscale and normalize\n",
    "    img1 = cv2.cvtColor(frame, cv2.COLOR_BGR2GRAY) / 255.0\n",
    "    sz = img1.shape\n",
    "    ni, nj = sz\n",
    "    img1 = img1.flatten()  # Flatten the image for processing\n",
    "    img2 = np.copy(img1)\n",
    "    \n",
    "    if k == 1:\n",
    "        img2[inds1] = img1[inds1[inds2[:, 0] - 1]]  # Adjust index for Python (0-based)\n",
    "    else:  # k == 2, 3, 4\n",
    "        temp = np.zeros(nq)\n",
    "        for i in range(k):\n",
    "            temp += ws[:, i] * img1[inds1[inds2[:, i] - 1]]  # Adjust index for Python\n",
    "        img2[inds1] = temp\n",
    "    \n",
    "    img2 = np.reshape(img2, (nj, ni)).T  # Reshape and transpose back to original shape\n",
    "    img2 = (img2 * 255).astype(np.uint8)  # Convert to uint8\n",
    "    \n",
    "    out.write(img2)  # Write the processed frame\n",
    "\n",
    "# Release everything if job is finished\n",
    "cap.release()\n",
    "out.release()\n",
    "cv2.destroyAllWindows()\n"
   ]
  },
  {
   "cell_type": "code",
   "execution_count": null,
   "id": "0b139929",
   "metadata": {},
   "outputs": [],
   "source": []
  },
  {
   "cell_type": "code",
   "execution_count": null,
   "id": "465ec000",
   "metadata": {},
   "outputs": [],
   "source": []
  }
 ],
 "metadata": {
  "kernelspec": {
   "display_name": "Python 3 (ipykernel)",
   "language": "python",
   "name": "python3"
  },
  "language_info": {
   "codemirror_mode": {
    "name": "ipython",
    "version": 3
   },
   "file_extension": ".py",
   "mimetype": "text/x-python",
   "name": "python",
   "nbconvert_exporter": "python",
   "pygments_lexer": "ipython3",
   "version": "3.9.13"
  }
 },
 "nbformat": 4,
 "nbformat_minor": 5
}
